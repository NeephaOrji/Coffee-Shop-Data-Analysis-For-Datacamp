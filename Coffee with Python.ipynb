{
 "cells": [
  {
   "cell_type": "markdown",
   "id": "c41a1f52",
   "metadata": {},
   "source": [
    "# Coffee Shop Exploration with Python"
   ]
  },
  {
   "cell_type": "markdown",
   "id": "6a63cc77",
   "metadata": {},
   "source": [
    "### Introduction \n",
    "<br> \n",
    "Caffeine Form is a company creating coffee cups from recycled material, sells the cups to coffee shops through their website \n",
    "<br>\n",
    "but, would prefer to partner directly with the shops. This project would aim to answer two business questions\n",
    "<br>\n",
    "<br>\n",
    "-  What types of shop that get the most reviews?\n",
    "<br>\n",
    "<br>\n",
    "-  Relationship between types of shop and number of reviews."
   ]
  },
  {
   "cell_type": "code",
   "execution_count": 1,
   "id": "8ff15a36",
   "metadata": {},
   "outputs": [],
   "source": [
    "# Import packages\n",
    "import numpy as np\n",
    "import pandas as pd\n",
    "import matplotlib.pyplot as plt\n",
    "import seaborn as sns"
   ]
  },
  {
   "cell_type": "code",
   "execution_count": 2,
   "id": "5529025c",
   "metadata": {},
   "outputs": [],
   "source": [
    "# read the file in using .csv\n",
    "coffee = pd.read_csv('coffee.csv')"
   ]
  },
  {
   "cell_type": "code",
   "execution_count": 3,
   "id": "427bb8a8",
   "metadata": {},
   "outputs": [
    {
     "data": {
      "text/html": [
       "<div>\n",
       "<style scoped>\n",
       "    .dataframe tbody tr th:only-of-type {\n",
       "        vertical-align: middle;\n",
       "    }\n",
       "\n",
       "    .dataframe tbody tr th {\n",
       "        vertical-align: top;\n",
       "    }\n",
       "\n",
       "    .dataframe thead th {\n",
       "        text-align: right;\n",
       "    }\n",
       "</style>\n",
       "<table border=\"1\" class=\"dataframe\">\n",
       "  <thead>\n",
       "    <tr style=\"text-align: right;\">\n",
       "      <th></th>\n",
       "      <th>Region</th>\n",
       "      <th>Place name</th>\n",
       "      <th>Place type</th>\n",
       "      <th>Rating</th>\n",
       "      <th>Reviews</th>\n",
       "      <th>Price</th>\n",
       "      <th>Delivery option</th>\n",
       "      <th>Dine in option</th>\n",
       "      <th>Takeout option</th>\n",
       "    </tr>\n",
       "  </thead>\n",
       "  <tbody>\n",
       "    <tr>\n",
       "      <th>0</th>\n",
       "      <td>C</td>\n",
       "      <td>Dim Kavu</td>\n",
       "      <td>Others</td>\n",
       "      <td>4.6</td>\n",
       "      <td>206.0</td>\n",
       "      <td>$$</td>\n",
       "      <td>False</td>\n",
       "      <td>NaN</td>\n",
       "      <td>NaN</td>\n",
       "    </tr>\n",
       "    <tr>\n",
       "      <th>1</th>\n",
       "      <td>C</td>\n",
       "      <td>Коферум</td>\n",
       "      <td>Cafe</td>\n",
       "      <td>5.0</td>\n",
       "      <td>24.0</td>\n",
       "      <td>$$</td>\n",
       "      <td>False</td>\n",
       "      <td>NaN</td>\n",
       "      <td>True</td>\n",
       "    </tr>\n",
       "  </tbody>\n",
       "</table>\n",
       "</div>"
      ],
      "text/plain": [
       "  Region Place name Place type  Rating  Reviews Price  Delivery option  \\\n",
       "0      C   Dim Kavu     Others     4.6    206.0    $$            False   \n",
       "1      C    Коферум       Cafe     5.0     24.0    $$            False   \n",
       "\n",
       "  Dine in option Takeout option  \n",
       "0            NaN            NaN  \n",
       "1            NaN           True  "
      ]
     },
     "execution_count": 3,
     "metadata": {},
     "output_type": "execute_result"
    }
   ],
   "source": [
    "# print the first 2 rows\n",
    "coffee.head(2)"
   ]
  },
  {
   "cell_type": "code",
   "execution_count": 4,
   "id": "fd5e8922",
   "metadata": {
    "scrolled": true
   },
   "outputs": [
    {
     "name": "stdout",
     "output_type": "stream",
     "text": [
      "<class 'pandas.core.frame.DataFrame'>\n",
      "RangeIndex: 200 entries, 0 to 199\n",
      "Data columns (total 9 columns):\n",
      " #   Column           Non-Null Count  Dtype  \n",
      "---  ------           --------------  -----  \n",
      " 0   Region           200 non-null    object \n",
      " 1   Place name       200 non-null    object \n",
      " 2   Place type       200 non-null    object \n",
      " 3   Rating           198 non-null    float64\n",
      " 4   Reviews          198 non-null    float64\n",
      " 5   Price            200 non-null    object \n",
      " 6   Delivery option  200 non-null    bool   \n",
      " 7   Dine in option   140 non-null    object \n",
      " 8   Takeout option   144 non-null    object \n",
      "dtypes: bool(1), float64(2), object(6)\n",
      "memory usage: 12.8+ KB\n"
     ]
    }
   ],
   "source": [
    "# show data statistics\n",
    "coffee.info()"
   ]
  },
  {
   "cell_type": "markdown",
   "id": "ff782b63",
   "metadata": {},
   "source": [
    "This dataset contains 9 columns, 200 rows. columns like Rating, reviews, Dine in option and Take out option have missing values. "
   ]
  },
  {
   "cell_type": "markdown",
   "id": "442a733b",
   "metadata": {},
   "source": [
    "### Dataset Description\n",
    "<br>\n",
    "Region - Nominal. Where the store is located. One of 10 possible regions (A to J).Missing values should be replaced with “Unknown”.\n",
    "<br>\n",
    "Place name - Nominal. The name of the store. Missing values should be replaced with “Unknown”.\n",
    "<br>\n",
    "Place type -  Nominal. The type of coffee shop. One of “Coffee shop”, “Cafe”, “Espresso bar”, and “Others”. Missing values should be replaced with “Unknown”.\n",
    "<br>\n",
    "Rating  - Ordinal. Average rating of the store from reviews. On a 5 point scale. Missing values should be replaced with 0.\n",
    "<br>\n",
    "Reviews  - Continuous. The number of reviews given to the store. Missing values should be replaced with the overall median\n",
    "number.\n",
    "<br>\n",
    "Price  - Ordinal. The price range of products in the store. One of “$”, “$$” or “$$$”. Missing values should be replaced with \"Unknown”.\n",
    "<br>\n",
    "Delivery Option  - Nominal. If delivery is available. Either True or False. Missing values should be replaced with False.\n",
    "<br>\n",
    "Dine in Option  - Nominal. If dine in is available. Either True or False. Missing values should be replaced with False.\n",
    "<br>\n",
    "Takeaway Option -  Nominal. If take away is available. Either True or False. Missing values should be replaced with False."
   ]
  },
  {
   "cell_type": "markdown",
   "id": "bd9c6b5d",
   "metadata": {},
   "source": [
    "### Data Validation\n",
    "Tasks\n",
    "<br>\n",
    "1. For every column in the data:\n",
    "<br>\n",
    "a. State whether the values match the description given in the table above.\n",
    "<br>\n",
    "b. State the number of missing values in the column.\n",
    "<br>\n",
    "c. Describe what you did to make values match the description if they did not\n",
    "match.\n",
    "<br>\n",
    "2. Create a visualization that shows which is the most common type of coffee store. Use\n",
    "the visualization to:\n",
    "<br>\n",
    "a. State which category of the variable place type the most observations\n",
    "<br>\n",
    "b. Explain whether the observations are balanced across categories\n",
    "<br>\n",
    "3. Describe the distribution of all of the number of reviews. Your answer must include a\n",
    "visualization that shows the distribution.\n",
    "<br>\n",
    "4. Describe the relationship between type of store and number of reviews. Your answer\n",
    "must include a visualization to demonstrate the relationship.\n"
   ]
  },
  {
   "cell_type": "code",
   "execution_count": 5,
   "id": "79d15746",
   "metadata": {},
   "outputs": [
    {
     "data": {
      "text/plain": [
       "Index(['Region', 'Place name', 'Place type', 'Rating', 'Reviews', 'Price',\n",
       "       'Delivery option', 'Dine in option', 'Takeout option'],\n",
       "      dtype='object')"
      ]
     },
     "execution_count": 5,
     "metadata": {},
     "output_type": "execute_result"
    }
   ],
   "source": [
    "# get the columns\n",
    "coffee.columns"
   ]
  },
  {
   "cell_type": "code",
   "execution_count": 6,
   "id": "621cc259",
   "metadata": {},
   "outputs": [
    {
     "data": {
      "text/plain": [
       "0"
      ]
     },
     "execution_count": 6,
     "metadata": {},
     "output_type": "execute_result"
    }
   ],
   "source": [
    "# Check for duplicates\n",
    "coffee.duplicated().sum()"
   ]
  },
  {
   "cell_type": "markdown",
   "id": "23d50d0f",
   "metadata": {},
   "source": [
    "Coffee has no duplicated Data"
   ]
  },
  {
   "cell_type": "code",
   "execution_count": 7,
   "id": "8cab5a60",
   "metadata": {},
   "outputs": [
    {
     "data": {
      "text/plain": [
       "Region              0\n",
       "Place name          0\n",
       "Place type          0\n",
       "Rating              2\n",
       "Reviews             2\n",
       "Price               0\n",
       "Delivery option     0\n",
       "Dine in option     60\n",
       "Takeout option     56\n",
       "dtype: int64"
      ]
     },
     "execution_count": 7,
     "metadata": {},
     "output_type": "execute_result"
    }
   ],
   "source": [
    "# check for missing columns with missing data\n",
    "coffee.isna().sum()"
   ]
  },
  {
   "cell_type": "markdown",
   "id": "3d107bd0",
   "metadata": {},
   "source": [
    "Rating and Reviews both have 2 rows with null values while Dine in option has 60 rows with missing values and Takeout Option has 56 rows with missing values."
   ]
  },
  {
   "cell_type": "code",
   "execution_count": 8,
   "id": "7ec20c43",
   "metadata": {},
   "outputs": [],
   "source": [
    "# Replace the missing values in rating with 0\n",
    "coffee.Rating = coffee.Rating.fillna(0)"
   ]
  },
  {
   "cell_type": "code",
   "execution_count": 9,
   "id": "9de4c57a",
   "metadata": {},
   "outputs": [
    {
     "data": {
      "text/plain": [
       "0"
      ]
     },
     "execution_count": 9,
     "metadata": {},
     "output_type": "execute_result"
    }
   ],
   "source": [
    "# Check for missing rows in rating\n",
    "coffee.Rating.isna().sum()"
   ]
  },
  {
   "cell_type": "markdown",
   "id": "85256124",
   "metadata": {},
   "source": [
    "Missing rows in Rating has successfully been replaced with 0"
   ]
  },
  {
   "cell_type": "code",
   "execution_count": 10,
   "id": "a4a796da",
   "metadata": {},
   "outputs": [
    {
     "name": "stdout",
     "output_type": "stream",
     "text": [
      "271.5\n"
     ]
    }
   ],
   "source": [
    "# Replace rows with missing values in Reviews with the middle number\n",
    "med = coffee.Reviews.median()\n",
    "print(med)\n",
    "coffee.Reviews = coffee.Reviews.fillna(med)"
   ]
  },
  {
   "cell_type": "code",
   "execution_count": 11,
   "id": "f6c2a590",
   "metadata": {},
   "outputs": [
    {
     "data": {
      "text/plain": [
       "0"
      ]
     },
     "execution_count": 11,
     "metadata": {},
     "output_type": "execute_result"
    }
   ],
   "source": [
    "# # Check for missing rows in reviews\n",
    "coffee.Reviews.isna().sum()"
   ]
  },
  {
   "cell_type": "markdown",
   "id": "aa03634e",
   "metadata": {},
   "source": [
    "Missing rows in Review has successfully been replaced with the median"
   ]
  },
  {
   "cell_type": "code",
   "execution_count": 12,
   "id": "d774d946",
   "metadata": {},
   "outputs": [],
   "source": [
    "# Replace missing values in Dine in and Take out option with False\n",
    "coffee['Dine in option'] = coffee['Dine in option'].fillna('False')\n",
    "coffee['Takeout option'] = coffee['Takeout option'].fillna('False')"
   ]
  },
  {
   "cell_type": "code",
   "execution_count": 13,
   "id": "20e4741a",
   "metadata": {},
   "outputs": [
    {
     "name": "stdout",
     "output_type": "stream",
     "text": [
      "number of unique observation  : Region              10\n",
      "Place name         187\n",
      "Place type           4\n",
      "Rating              13\n",
      "Reviews            164\n",
      "Price                3\n",
      "Delivery option      2\n",
      "Dine in option       2\n",
      "Takeout option       2\n",
      "dtype: int64\n"
     ]
    }
   ],
   "source": [
    "# Task one; confirming unique observations in each column\n",
    "coff_unique = coffee.nunique(axis = 0)\n",
    "print('number of unique observation  :',\n",
    "      coff_unique)"
   ]
  },
  {
   "cell_type": "code",
   "execution_count": 14,
   "id": "ad642ba0",
   "metadata": {},
   "outputs": [
    {
     "name": "stdout",
     "output_type": "stream",
     "text": [
      "True     140\n",
      "False     60\n",
      "Name: Dine in option, dtype: int64\n",
      "True     144\n",
      "False     56\n",
      "Name: Takeout option, dtype: int64\n"
     ]
    }
   ],
   "source": [
    "# Count the values in both take out and dine in option\n",
    "print(coffee['Dine in option'].value_counts())\n",
    "print(coffee['Takeout option'].value_counts())"
   ]
  },
  {
   "cell_type": "code",
   "execution_count": 15,
   "id": "4fccd868",
   "metadata": {},
   "outputs": [
    {
     "name": "stdout",
     "output_type": "stream",
     "text": [
      "Number of unique values : 10\n",
      "Unique values : ['C', 'J', 'F', 'B', 'A', 'E', 'D', 'G', 'I', 'H']\n"
     ]
    }
   ],
   "source": [
    "# print the unique regions\n",
    "# variable to hold the count\n",
    "cnt = 0\n",
    "# list to hold the unique strings\n",
    "visited = []\n",
    "for i in range(0, len(coffee['Region'])):\n",
    "    if coffee['Region'][i] not in visited:\n",
    "        visited.append(coffee['Region'][i])\n",
    "        cnt += 1\n",
    "print('Number of unique values :',\n",
    "     cnt)\n",
    "print('Unique values :',\n",
    "     visited)"
   ]
  },
  {
   "cell_type": "markdown",
   "id": "97a6fd37",
   "metadata": {},
   "source": [
    "We can confirm that there are 10 unique observations in Region column, ranging from A - J"
   ]
  },
  {
   "cell_type": "code",
   "execution_count": 16,
   "id": "b6c83f5a",
   "metadata": {},
   "outputs": [
    {
     "name": "stdout",
     "output_type": "stream",
     "text": [
      "Region              object\n",
      "Place name          object\n",
      "Place type          object\n",
      "Rating             float64\n",
      "Reviews            float64\n",
      "Price               object\n",
      "Delivery option       bool\n",
      "Dine in option      object\n",
      "Takeout option      object\n",
      "dtype: object\n"
     ]
    }
   ],
   "source": [
    "# check the data type for all columns\n",
    "result = coffee.dtypes\n",
    "print(result)"
   ]
  },
  {
   "cell_type": "code",
   "execution_count": 17,
   "id": "8f40a9e9",
   "metadata": {},
   "outputs": [],
   "source": [
    "# convert dine in and take out option data type to boolean\n",
    "def boolean(coffee, column):\n",
    "    coffee[column] = coffee[column].apply(lambda x: True if str(x).lower()== 'true' else False)\n",
    "    return coffee"
   ]
  },
  {
   "cell_type": "code",
   "execution_count": 18,
   "id": "4a4fbfaa",
   "metadata": {},
   "outputs": [],
   "source": [
    "# apply function\n",
    "coffee = boolean(coffee, 'Dine in option')\n",
    "coffee = boolean(coffee, 'Takeout option')"
   ]
  },
  {
   "cell_type": "code",
   "execution_count": 19,
   "id": "33f2efdf",
   "metadata": {},
   "outputs": [
    {
     "name": "stdout",
     "output_type": "stream",
     "text": [
      "Region              object\n",
      "Place name          object\n",
      "Place type          object\n",
      "Rating             float64\n",
      "Reviews            float64\n",
      "Price               object\n",
      "Delivery option       bool\n",
      "Dine in option        bool\n",
      "Takeout option        bool\n",
      "dtype: object\n"
     ]
    }
   ],
   "source": [
    "print(coffee.dtypes)"
   ]
  },
  {
   "cell_type": "markdown",
   "id": "6447eba0",
   "metadata": {},
   "source": [
    "The original Dataset contains **200** rows and **9** columns. According to the stipulated tasks, I verified values to see if they matched the description given and got the following results.<br> **Region** has **10** unique values ranging from **A - J**. <br> **Place Name** has **187** unique values. <br> **Place Type** has **4** unique values. <br> **Rating** has **13** unique values. <br> **Reviews** has **164** unique values. <br> **Price** has **3** unique values. <br> **Dine in and Takeout Option** both have **1** unique value as opposed to two unique values shown in the data description table. This required some tidying. <br> Lastly, **Delivery Option** has **2** unique values<br><br>\n",
    "        *Missing Values*<br> The following columns had missing values and were replaced the appropraite values. <br> **Rating** - 2 missing values; filled with **0** <br> **Reviews** - 2 missing values; filled with the median value. <br> **Dine in option** - 60 missing values; filled with False. <br> **Takeout option** - 56 missing values; filled with False.<br><br>\n",
    "        *Data Types* <br> **Dine in and Takeout option** did not correspond with the given data type and were converted to **Boolean** using Lambda"
   ]
  },
  {
   "cell_type": "markdown",
   "id": "22106875",
   "metadata": {},
   "source": [
    "### Data Visualization\n",
    "As stated, this project aims to answer 3 business questions to guide the **coffee** team in making a decision with regards to distribution of their products.<br>\n",
    "1. Which Place Type has the highest Category?. <br>\n",
    "2. What is the distribution of Reviews in the Market?. <br>\n",
    "3. What is the relationship between Reviews and place Type?."
   ]
  },
  {
   "cell_type": "markdown",
   "id": "e7576acc",
   "metadata": {},
   "source": [
    "### Which Place Type has the highest Category?. <br>\n",
    "There are 4 categories in Place types and their order in decreasing popularity are **Coffee Shop**, **Cafe**, **Others** and **Espresso Bar**. <br> This information suggests that the team should focus on distributing the cups to Coffee shops."
   ]
  },
  {
   "cell_type": "code",
   "execution_count": 20,
   "id": "facb2c64",
   "metadata": {},
   "outputs": [
    {
     "data": {
      "image/png": "[encoded data removed]",
      "text/plain": [
       "<Figure size 640x480 with 1 Axes>"
      ]
     },
     "metadata": {},
     "output_type": "display_data"
    }
   ],
   "source": [
    "sns.set_style('whitegrid')\n",
    "sns.countplot(x= 'Place type', data = coffee, color ='grey', order = coffee['Place type'].value_counts().index).set(title ='Counts of Place Type in the Market')\n",
    "plt.text(x=6, y=3, s='Coffee Shop has the highest count in Place Type', fontsize = 15)\n",
    "plt.xlabel('Place Types')\n",
    "plt.ylabel('Count')\n",
    "plt.show();"
   ]
  },
  {
   "cell_type": "markdown",
   "id": "b045bfd4",
   "metadata": {},
   "source": [
    "### How Does Review Differ in all Categories of Coffee Shops?\n",
    "<br> The distribution of reviews showed the presence of outliers when visualized using a histogram. The outliers were removed after calculating the **IQR**, defining the upper and lower bounds and Identifying the indices of the outliers. <br> A total of 12 rows were lost and the new dataframe contained **188** rows. A new histogram suggested that some places have over 1000 reviews but majority have reviews below 1000. The team should work with places with less than 1000 reviews for a start."
   ]
  },
  {
   "cell_type": "code",
   "execution_count": 21,
   "id": "587fadcb",
   "metadata": {},
   "outputs": [
    {
     "data": {
      "image/png": "[encoded data removed]",
      "text/plain": [
       "<Figure size 640x480 with 1 Axes>"
      ]
     },
     "metadata": {},
     "output_type": "display_data"
    }
   ],
   "source": [
    "coffee['Reviews'].hist(bins=50)\n",
    "plt.title('Distribution of Reviews in all categories of coffee shops')\n",
    "plt.xlabel('Reviews')\n",
    "plt.ylabel('Count')\n",
    "plt.show();"
   ]
  },
  {
   "cell_type": "markdown",
   "id": "f07a9cf4",
   "metadata": {},
   "source": [
    "The distribution above suggests the presence of outliers in the reviews column. Using describe, we see that indeed there are outliers present in reviews"
   ]
  },
  {
   "cell_type": "code",
   "execution_count": 22,
   "id": "e525ed11",
   "metadata": {},
   "outputs": [
    {
     "data": {
      "text/plain": [
       "count      200.000000\n",
       "mean       618.985000\n",
       "std       1394.280842\n",
       "min          3.000000\n",
       "25%         48.500000\n",
       "50%        271.500000\n",
       "75%        780.750000\n",
       "max      17937.000000\n",
       "Name: Reviews, dtype: float64"
      ]
     },
     "execution_count": 22,
     "metadata": {},
     "output_type": "execute_result"
    }
   ],
   "source": [
    "coffee.describe()['Reviews']"
   ]
  },
  {
   "cell_type": "markdown",
   "id": "d0396f76",
   "metadata": {},
   "source": [
    "Comparing the max value and q3 confirms the presence of outliers. Also the std value suggests thesame. Next, we use np.percentiles to detect the outliers and remove them from reviews column"
   ]
  },
  {
   "cell_type": "code",
   "execution_count": 23,
   "id": "5b957a57",
   "metadata": {},
   "outputs": [],
   "source": [
    "def drop_outliers(coffee, Reviews, factor = 1.5):\n",
    "    # using IQR drop outliers in Reviews\n",
    "    # Calculate q1 and q3\n",
    "    q1, q3 = np.percentile(coffee[Reviews], [25, 75])\n",
    "    \n",
    "    # calculate iqr\n",
    "    iqr = q3 - q1\n",
    "    \n",
    "    # define upper and lower bounds for outliers\n",
    "    upper_bound = q3 + (iqr * factor)\n",
    "    lower_bound = q1 - (iqr * factor)\n",
    "    \n",
    "    # identify indicies of the outliers based on bounds\n",
    "    outliers = coffee.index[(coffee[Reviews] < lower_bound) | (coffee[Reviews] > upper_bound)]\n",
    "    \n",
    "    #drop the outliers \n",
    "    coffee_cleaned = coffee.drop(outliers)\n",
    "    return coffee_cleaned"
   ]
  },
  {
   "cell_type": "code",
   "execution_count": 24,
   "id": "1c2bcf1e",
   "metadata": {},
   "outputs": [
    {
     "name": "stdout",
     "output_type": "stream",
     "text": [
      "New shape : (188, 9)\n"
     ]
    }
   ],
   "source": [
    "# use the function for coffee\n",
    "coffee_clean = drop_outliers(coffee, 'Reviews')\n",
    "print('New shape :', coffee_clean.shape)"
   ]
  },
  {
   "cell_type": "markdown",
   "id": "6613e5a3",
   "metadata": {},
   "source": [
    "12 rows was removed from coffee. Next, we plot a histogram of reviews using the new dataframe"
   ]
  },
  {
   "cell_type": "code",
   "execution_count": 25,
   "id": "dd5f50c7",
   "metadata": {},
   "outputs": [
    {
     "data": {
      "image/png": "[encoded data removed]",
      "text/plain": [
       "<Figure size 640x480 with 1 Axes>"
      ]
     },
     "metadata": {},
     "output_type": "display_data"
    }
   ],
   "source": [
    "plt.hist(x = 'Reviews', data = coffee_clean, bins = 20, color = 'gray')\n",
    "plt.title('Distribution of Reviews in all categories of coffee shops')\n",
    "plt.xlabel('Reviews')\n",
    "plt.ylabel('Count')\n",
    "plt.show();"
   ]
  },
  {
   "cell_type": "markdown",
   "id": "051d4573",
   "metadata": {},
   "source": [
    "### What is the Relationship between Place Type and Number of Reviews?\n",
    "<br> Looking at the relationship between reviews and place type, **Cafes** have reviews as high as **1750** while the popular **Coffee Shops** have as high as **1250** reviews. Another place type worthy of note is **Espresso Bars** with reviews as high as **1500**. This decline with Coffee shops could be due to their spread."
   ]
  },
  {
   "cell_type": "code",
   "execution_count": 26,
   "id": "1f9bdf0a",
   "metadata": {},
   "outputs": [
    {
     "data": {
      "image/png": "[encoded data removed]",
      "text/plain": [
       "<Figure size 640x480 with 1 Axes>"
      ]
     },
     "metadata": {},
     "output_type": "display_data"
    }
   ],
   "source": [
    "sns.boxplot(x= 'Place type', y = 'Reviews', data = coffee_clean, color = 'white').set(title = 'Relationship between Reviews and Place Type')\n",
    "plt.xlabel=('Place Type')\n",
    "plt.ylabel = ('Reviews')\n",
    "plt.show();"
   ]
  },
  {
   "cell_type": "markdown",
   "id": "20022dae",
   "metadata": {},
   "source": [
    "#### Conclusion\n",
    "<br> For a start, Cups should be distribited to **Coffee Shops and Cafes** with reviews between **450 and 1000**. Further analysis is required for the relationship between reviews and region."
   ]
  },
  {
   "cell_type": "code",
   "execution_count": null,
   "id": "4a7b5a23",
   "metadata": {},
   "outputs": [],
   "source": []
  }
 ],
 "metadata": {
  "kernelspec": {
   "display_name": "Python 3 (ipykernel)",
   "language": "python",
   "name": "python3"
  },
  "language_info": {
   "codemirror_mode": {
    "name": "ipython",
    "version": 3
   },
   "file_extension": ".py",
   "mimetype": "text/x-python",
   "name": "python",
   "nbconvert_exporter": "python",
   "pygments_lexer": "ipython3",
   "version": "3.10.9"
  }
 },
 "nbformat": 4,
 "nbformat_minor": 5
}
